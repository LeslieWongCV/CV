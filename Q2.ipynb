{
 "cells": [
  {
   "cell_type": "code",
   "execution_count": 107,
   "metadata": {},
   "outputs": [],
   "source": [
    "import matplotlib.pyplot as plt\n",
    "import numpy as np\n",
    "import copy"
   ]
  },
  {
   "cell_type": "code",
   "execution_count": 108,
   "metadata": {},
   "outputs": [
    {
     "data": {
      "image/png": "[encoded data removed]",
      "text/plain": [
       "<Figure size 432x288 with 2 Axes>"
      ]
     },
     "metadata": {},
     "output_type": "display_data"
    }
   ],
   "source": [
    "A = np.array([[255,255,255,255,255,255],\n",
    "              [255,1,255,255,255,255],\n",
    "              [255,1,1,1,255,255],\n",
    "              [255,255,1,1,255,255],\n",
    "              [255,255,1,255,255,255],\n",
    "              [255,255,255,255,255,255]])\n",
    "\n",
    "B = np.array([[255,255,255,255,255,255],\n",
    "              [255,255,255,1,255,255],\n",
    "              [255,255,1,255,255,255],\n",
    "              [255,1,255,255,255,255],\n",
    "              [255,255,255,255,255,255],\n",
    "              [255,255,255,255,255,255]])\n",
    "plt.subplot(121)\n",
    "plt.imshow(A, cmap = plt.get_cmap('gray'))\n",
    "plt.subplot(122)\n",
    "plt.imshow(B, cmap = plt.get_cmap('gray'))\n",
    "plt.show()"
   ]
  },
  {
   "cell_type": "code",
   "execution_count": 32,
   "metadata": {},
   "outputs": [],
   "source": [
    "Union = A + B\n",
    "\n",
    "def Union_F(A):\n",
    "    for i in range(0,A.shape[0]-1):\n",
    "        for j in range(1,A.shape[1]):\n",
    "            if(A[i,j] == 256): \n",
    "                A[i,j]=1\n",
    "    return A\n",
    "\n",
    "Union = Union_F(Intersection)\n"
   ]
  },
  {
   "cell_type": "code",
   "execution_count": 33,
   "metadata": {},
   "outputs": [
    {
     "data": {
      "image/png": "[encoded data removed]",
      "text/plain": [
       "<Figure size 432x288 with 1 Axes>"
      ]
     },
     "metadata": {},
     "output_type": "display_data"
    },
    {
     "data": {
      "text/plain": [
       "array([[510, 510, 510, 510, 510, 510],\n",
       "       [510,   1, 510,   1, 510, 510],\n",
       "       [510,   1,   2,   1, 510, 510],\n",
       "       [510,   1,   1,   1, 510, 510],\n",
       "       [510, 510,   1, 510, 510, 510],\n",
       "       [510, 510, 510, 510, 510, 510]])"
      ]
     },
     "execution_count": 33,
     "metadata": {},
     "output_type": "execute_result"
    }
   ],
   "source": [
    "\n",
    "plt.imshow(Union, cmap = plt.get_cmap('gray'))\n",
    "plt.show()\n",
    "Intersection\n"
   ]
  },
  {
   "cell_type": "code",
   "execution_count": 60,
   "metadata": {},
   "outputs": [],
   "source": [
    "def Intersection_F(A):\n",
    "    for i in range(0,A.shape[0]-1):\n",
    "        for j in range(1,A.shape[1]):\n",
    "            if(A[i,j] != 2): \n",
    "                A[i,j]=510\n",
    "                \n",
    "    return A\n",
    "Intersection = A + B \n",
    "Intersection = Intersection_F(Intersection)"
   ]
  },
  {
   "cell_type": "code",
   "execution_count": 61,
   "metadata": {},
   "outputs": [
    {
     "data": {
      "image/png": "[encoded data removed]",
      "text/plain": [
       "<Figure size 432x288 with 1 Axes>"
      ]
     },
     "metadata": {},
     "output_type": "display_data"
    },
    {
     "data": {
      "text/plain": [
       "array([[510, 510, 510, 510, 510, 510],\n",
       "       [510, 510, 510, 510, 510, 510],\n",
       "       [510, 510,   2, 510, 510, 510],\n",
       "       [510, 510, 510, 510, 510, 510],\n",
       "       [510, 510, 510, 510, 510, 510],\n",
       "       [510, 510, 510, 510, 510, 510]])"
      ]
     },
     "execution_count": 61,
     "metadata": {},
     "output_type": "execute_result"
    }
   ],
   "source": [
    "plt.imshow(Intersection, cmap = plt.get_cmap('gray'))\n",
    "plt.show()\n",
    "Intersection"
   ]
  },
  {
   "cell_type": "code",
   "execution_count": null,
   "metadata": {},
   "outputs": [],
   "source": []
  },
  {
   "cell_type": "code",
   "execution_count": 67,
   "metadata": {},
   "outputs": [
    {
     "data": {
      "image/png": "[encoded data removed]",
      "text/plain": [
       "<Figure size 432x288 with 1 Axes>"
      ]
     },
     "metadata": {},
     "output_type": "display_data"
    }
   ],
   "source": [
    "Difference_set = A-B\n",
    "Difference_set\n",
    "def Difference_F(A):\n",
    "    for i in range(0,A.shape[0]):\n",
    "        for j in range(0,A.shape[1]):\n",
    "            if(A[i,j]== -254):\n",
    "                A[i,j]= 255\n",
    "            if(A[i,j]== 0):\n",
    "                A[i,j]= 255\n",
    "            if(A[i,j]==254):\n",
    "                A[i,j] = 0\n",
    "    return A\n",
    "\n",
    "Difference_set = Difference_F(Difference_set)\n",
    "plt.imshow(Difference_set,cmap=plt.get_cmap('gray'))\n",
    "plt.show()\n",
    "Difference_set"
   ]
  },
  {
   "cell_type": "code",
   "execution_count": 78,
   "metadata": {},
   "outputs": [
    {
     "data": {
      "text/plain": [
       "array([[   1,  255,  255,  255,  255,  255],\n",
       "       [   1,    1,  255,  255,  255,  255],\n",
       "       [   1,    1,    1,    1,  255,  255],\n",
       "       [   1,  255,    1,    1,  255,  255],\n",
       "       [   1,  255,    1,  255,  255,  255],\n",
       "       [  -1, -255, -255, -255, -255, -255]])"
      ]
     },
     "execution_count": 78,
     "metadata": {},
     "output_type": "execute_result"
    }
   ],
   "source": [
    "A"
   ]
  },
  {
   "cell_type": "code",
   "execution_count": 81,
   "metadata": {},
   "outputs": [
    {
     "data": {
      "image/png": "[encoded data removed]",
      "text/plain": [
       "<Figure size 432x288 with 1 Axes>"
      ]
     },
     "metadata": {},
     "output_type": "display_data"
    }
   ],
   "source": [
    "def Complement_F(A):\n",
    "    for i in range(0,A.shape[0]):\n",
    "        for j in range(0,A.shape[1]):\n",
    "            A[i,j]=-A[i,j]\n",
    "    return A\n",
    "Complement_setA = Complement_F(A)\n",
    "plt.imshow(Complement_set,cmap=plt.get_cmap('gray'))\n",
    "plt.show()"
   ]
  },
  {
   "cell_type": "code",
   "execution_count": 84,
   "metadata": {},
   "outputs": [
    {
     "data": {
      "image/png": "[encoded data removed]",
      "text/plain": [
       "<Figure size 432x288 with 1 Axes>"
      ]
     },
     "metadata": {},
     "output_type": "display_data"
    }
   ],
   "source": [
    "Complement_setB= Complement_F(B)\n",
    "plt.imshow(Complement_setB,cmap=plt.get_cmap('gray'))\n",
    "plt.show()"
   ]
  },
  {
   "cell_type": "code",
   "execution_count": 114,
   "metadata": {},
   "outputs": [
    {
     "data": {
      "image/png": "[encoded data removed]",
      "text/plain": [
       "<Figure size 432x288 with 1 Axes>"
      ]
     },
     "metadata": {},
     "output_type": "display_data"
    }
   ],
   "source": [
    "Acopy = copy.deepcopy(A)\n",
    "\n",
    "for i in range(0,A.shape[0]):\n",
    "    for j in range(0,A.shape[1]):\n",
    "        Flip_FA[A.shape[0]-i-1,Acopy.shape[1]-j-1]=A[i,j]\n",
    "\n",
    "plt.imshow(Flip_FA,cmap=plt.get_cmap('gray'))\n",
    "plt.show()\n"
   ]
  },
  {
   "cell_type": "code",
   "execution_count": 115,
   "metadata": {},
   "outputs": [
    {
     "data": {
      "image/png": "[encoded data removed]",
      "text/plain": [
       "<Figure size 432x288 with 1 Axes>"
      ]
     },
     "metadata": {},
     "output_type": "display_data"
    }
   ],
   "source": [
    "Bcopy = copy.deepcopy(B)\n",
    "Flip_FB = copy.deepcopy(B)\n",
    "\n",
    "for i in range(0,B.shape[0]):\n",
    "    for j in range(0,B.shape[1]):\n",
    "        Flip_FB[B.shape[0]-i-1,Bcopy.shape[1]-j-1]=Bcopy[i,j]\n",
    "\n",
    "plt.imshow(Flip_FB,cmap=plt.get_cmap('gray'))\n",
    "plt.show()"
   ]
  },
  {
   "cell_type": "code",
   "execution_count": null,
   "metadata": {},
   "outputs": [],
   "source": []
  }
 ],
 "metadata": {
  "kernelspec": {
   "display_name": "Python 3",
   "language": "python",
   "name": "python3"
  },
  "language_info": {
   "codemirror_mode": {
    "name": "ipython",
    "version": 3
   },
   "file_extension": ".py",
   "mimetype": "text/x-python",
   "name": "python",
   "nbconvert_exporter": "python",
   "pygments_lexer": "ipython3",
   "version": "3.6.7"
  }
 },
 "nbformat": 4,
 "nbformat_minor": 1
}
